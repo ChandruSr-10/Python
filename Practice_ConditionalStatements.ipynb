{
  "nbformat": 4,
  "nbformat_minor": 0,
  "metadata": {
    "colab": {
      "provenance": []
    },
    "kernelspec": {
      "name": "python3",
      "display_name": "Python 3"
    },
    "language_info": {
      "name": "python"
    }
  },
  "cells": [
    {
      "cell_type": "code",
      "execution_count": null,
      "metadata": {
        "colab": {
          "base_uri": "https://localhost:8080/"
        },
        "id": "VZatCrbZ7--u",
        "outputId": "24b44fc1-2bea-469e-93b5-4cfdc68f29bb"
      },
      "outputs": [
        {
          "output_type": "stream",
          "name": "stdout",
          "text": [
            "ENter a number1\n",
            "num is less than 15\n"
          ]
        }
      ],
      "source": [
        "c=int(input(\"ENter a number\"))\n",
        "\n",
        "if c>15:\n",
        "  print(\"Num is greater than 15\")\n",
        "else:\n",
        "  print(\"num is less than 15\")"
      ]
    },
    {
      "cell_type": "code",
      "source": [
        "x=int(input(\"Enter a number\"))\n",
        "y=int(input(\"Enter a number\"))\n",
        "if x>y:\n",
        "  print(\"X is greater than Y\")\n",
        "elif y>x:\n",
        "    print(\"Y is greater than X\")\n",
        "else:\n",
        "  print(\"X is equal to Y\")\n"
      ],
      "metadata": {
        "colab": {
          "base_uri": "https://localhost:8080/"
        },
        "id": "ysKJZBhv_hWM",
        "outputId": "a4bbe923-49d7-4914-db20-cb3bd8bd60ee"
      },
      "execution_count": null,
      "outputs": [
        {
          "output_type": "stream",
          "name": "stdout",
          "text": [
            "Enter a number1\n",
            "Enter a number1\n",
            "X is equal to Y\n"
          ]
        }
      ]
    },
    {
      "cell_type": "code",
      "source": [
        "Age=int(input(\"Enter a number\"))\n",
        "if Age<=18:\n",
        "  print(\"Not eligible for voting\")\n",
        "else:\n",
        "    print(\"Eligible for voting\")"
      ],
      "metadata": {
        "colab": {
          "base_uri": "https://localhost:8080/"
        },
        "id": "La56EPj_AMu2",
        "outputId": "154a5c2e-d14e-4665-b4da-1141091015e6"
      },
      "execution_count": null,
      "outputs": [
        {
          "output_type": "stream",
          "name": "stdout",
          "text": [
            "Enter a number1\n",
            "Not eligible for voting\n"
          ]
        }
      ]
    },
    {
      "cell_type": "code",
      "source": [
        "M=int(input(\"Enter the mark\"))\n",
        "if M>=90:\n",
        "  print(\"The Grade is A\")\n",
        "elif M>=80:\n",
        "  print(\"The Grade is B\")\n",
        "elif M>=70:\n",
        "  print(\"The Grade is C\")\n",
        "elif M>=60:\n",
        "  print(\"The Grade is D\")\n",
        "else:\n",
        "  print(\"Study Hard to get grade A like aashutosh\")"
      ],
      "metadata": {
        "id": "-1-4JR4FIueg",
        "colab": {
          "base_uri": "https://localhost:8080/"
        },
        "outputId": "a0b29318-c32a-4094-e5c7-19e2746ab3a6"
      },
      "execution_count": null,
      "outputs": [
        {
          "output_type": "stream",
          "name": "stdout",
          "text": [
            "Enter the mark1\n",
            "Study Hard to get grade A like aashutosh\n"
          ]
        }
      ]
    },
    {
      "cell_type": "code",
      "source": [
        "A=int(input(\"Enter the age of children\"))\n",
        "if A<4:\n",
        "  print(\"The entry is free\")\n",
        "elif 4>=A<=16:\n",
        "  print(\"The entry fee is 100\")\n",
        "else:\n",
        "  print(\"The fee is 175\")"
      ],
      "metadata": {
        "colab": {
          "base_uri": "https://localhost:8080/"
        },
        "id": "6vy7DNncEduU",
        "outputId": "2564c518-4ee1-4eb7-cdf0-4606806f2aa8"
      },
      "execution_count": null,
      "outputs": [
        {
          "output_type": "stream",
          "name": "stdout",
          "text": [
            "Enter the age of children1\n",
            "The entry is free\n"
          ]
        }
      ]
    },
    {
      "cell_type": "code",
      "source": [
        "numb = int(input(\"Enter a number: \"))\n",
        "if numb % 2 == 0:\n",
        "   print(\"the number is even\")\n",
        "else:\n",
        "   print(\"The number is odd\")"
      ],
      "metadata": {
        "colab": {
          "base_uri": "https://localhost:8080/"
        },
        "id": "eM-vtAanNJjk",
        "outputId": "dbe869d6-08ca-4f52-a567-072e88404ddf"
      },
      "execution_count": null,
      "outputs": [
        {
          "output_type": "stream",
          "name": "stdout",
          "text": [
            "Enter a number: 1\n",
            "The number is odd\n"
          ]
        }
      ]
    },
    {
      "cell_type": "code",
      "source": [
        "numb = int(input(\"Enter a number: \"))\n",
        "if numb % 2 != 0:\n",
        "   print(\"the number is odd\")\n",
        "else:\n",
        "   print(\"The number is even\")"
      ],
      "metadata": {
        "colab": {
          "base_uri": "https://localhost:8080/"
        },
        "id": "0c34beIRQXlZ",
        "outputId": "58e1ee60-2d06-494a-a98d-4fec066cfe0f"
      },
      "execution_count": null,
      "outputs": [
        {
          "output_type": "stream",
          "name": "stdout",
          "text": [
            "Enter a number: 1\n",
            "the number is odd\n"
          ]
        }
      ]
    },
    {
      "cell_type": "code",
      "source": [
        "salary=int(input(\"Enter the current salary\"))\n",
        "exp=int(input(\"Enter the total experience\"))\n",
        "if exp>=5:\n",
        "  print(\"Your new salary is\", salary+0.05*salary)\n",
        "elif exp<=5:\n",
        "  print(\"Your salary is\", exp)"
      ],
      "metadata": {
        "colab": {
          "base_uri": "https://localhost:8080/"
        },
        "id": "UWKfmW7ORbse",
        "outputId": "1bbfbdd6-bf90-447a-c69e-4d313b6a2759"
      },
      "execution_count": null,
      "outputs": [
        {
          "output_type": "stream",
          "name": "stdout",
          "text": [
            "Enter the current salary12\n",
            "Enter the total experience2\n",
            "Your salary is 2\n"
          ]
        }
      ]
    },
    {
      "cell_type": "markdown",
      "source": [
        "NESTED ELSE IF"
      ],
      "metadata": {
        "id": "fvze7wivQJuz"
      }
    },
    {
      "cell_type": "code",
      "source": [
        "inn=int(input(\"Enter a number\")) #NESTED IF ELSE\n",
        "if inn>10:\n",
        "  if inn>20:\n",
        "    print(\"The entered number is greater than 20\")\n",
        "  else:\n",
        "    print(\"The entered number is less than 20 but greater than 10\")\n",
        "else:\n",
        "  print(\"The entered number is less than 10\")"
      ],
      "metadata": {
        "colab": {
          "base_uri": "https://localhost:8080/"
        },
        "id": "RYzdOfOcDI04",
        "outputId": "c6c08c2e-3dfe-4265-de43-ac70d92df53d"
      },
      "execution_count": null,
      "outputs": [
        {
          "output_type": "stream",
          "name": "stdout",
          "text": [
            "Enter a number34\n",
            "The entered number is greater than 20\n"
          ]
        }
      ]
    },
    {
      "cell_type": "code",
      "source": [
        "n=float(input(\"Enter a number \"))\n",
        "if n<=0:\n",
        "  if n<0:\n",
        "    print(\"The number is negative\")\n",
        "  else:\n",
        "    print(\"The number is zero\")\n",
        "else:\n",
        "  print(\"The number is positive\")"
      ],
      "metadata": {
        "colab": {
          "base_uri": "https://localhost:8080/"
        },
        "id": "kn06ezrLNZji",
        "outputId": "180fdfdd-1a72-4e9f-b970-be4b38a91b78"
      },
      "execution_count": null,
      "outputs": [
        {
          "output_type": "stream",
          "name": "stdout",
          "text": [
            "Enter a number 10\n",
            "The number is positive\n"
          ]
        }
      ]
    },
    {
      "cell_type": "code",
      "source": [],
      "metadata": {
        "id": "A8u9H0JwQkkk"
      },
      "execution_count": null,
      "outputs": []
    }
  ]
}