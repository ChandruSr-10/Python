{
  "nbformat": 4,
  "nbformat_minor": 0,
  "metadata": {
    "colab": {
      "provenance": []
    },
    "kernelspec": {
      "name": "python3",
      "display_name": "Python 3"
    },
    "language_info": {
      "name": "python"
    }
  },
  "cells": [
    {
      "cell_type": "code",
      "execution_count": null,
      "metadata": {
        "id": "X_3uxbKNE-sS"
      },
      "outputs": [],
      "source": [
        "import nltk #natural Language tool kit"
      ]
    },
    {
      "cell_type": "code",
      "source": [
        "nltk.download(\"popular\")"
      ],
      "metadata": {
        "colab": {
          "base_uri": "https://localhost:8080/"
        },
        "id": "BqPXc1hTFMiD",
        "outputId": "6661d505-21ca-4102-beb1-810f402bd218"
      },
      "execution_count": null,
      "outputs": [
        {
          "output_type": "stream",
          "name": "stderr",
          "text": [
            "[nltk_data] Downloading collection 'popular'\n",
            "[nltk_data]    | \n",
            "[nltk_data]    | Downloading package cmudict to /root/nltk_data...\n",
            "[nltk_data]    |   Package cmudict is already up-to-date!\n",
            "[nltk_data]    | Downloading package gazetteers to /root/nltk_data...\n",
            "[nltk_data]    |   Package gazetteers is already up-to-date!\n",
            "[nltk_data]    | Downloading package genesis to /root/nltk_data...\n",
            "[nltk_data]    |   Package genesis is already up-to-date!\n",
            "[nltk_data]    | Downloading package gutenberg to /root/nltk_data...\n",
            "[nltk_data]    |   Package gutenberg is already up-to-date!\n",
            "[nltk_data]    | Downloading package inaugural to /root/nltk_data...\n",
            "[nltk_data]    |   Package inaugural is already up-to-date!\n",
            "[nltk_data]    | Downloading package movie_reviews to\n",
            "[nltk_data]    |     /root/nltk_data...\n",
            "[nltk_data]    |   Package movie_reviews is already up-to-date!\n",
            "[nltk_data]    | Downloading package names to /root/nltk_data...\n",
            "[nltk_data]    |   Package names is already up-to-date!\n",
            "[nltk_data]    | Downloading package shakespeare to /root/nltk_data...\n",
            "[nltk_data]    |   Package shakespeare is already up-to-date!\n",
            "[nltk_data]    | Downloading package stopwords to /root/nltk_data...\n",
            "[nltk_data]    |   Package stopwords is already up-to-date!\n",
            "[nltk_data]    | Downloading package treebank to /root/nltk_data...\n",
            "[nltk_data]    |   Package treebank is already up-to-date!\n",
            "[nltk_data]    | Downloading package twitter_samples to\n",
            "[nltk_data]    |     /root/nltk_data...\n",
            "[nltk_data]    |   Package twitter_samples is already up-to-date!\n",
            "[nltk_data]    | Downloading package omw to /root/nltk_data...\n",
            "[nltk_data]    |   Package omw is already up-to-date!\n",
            "[nltk_data]    | Downloading package omw-1.4 to /root/nltk_data...\n",
            "[nltk_data]    |   Package omw-1.4 is already up-to-date!\n",
            "[nltk_data]    | Downloading package wordnet to /root/nltk_data...\n",
            "[nltk_data]    |   Package wordnet is already up-to-date!\n",
            "[nltk_data]    | Downloading package wordnet2021 to /root/nltk_data...\n",
            "[nltk_data]    |   Package wordnet2021 is already up-to-date!\n",
            "[nltk_data]    | Downloading package wordnet31 to /root/nltk_data...\n",
            "[nltk_data]    |   Package wordnet31 is already up-to-date!\n",
            "[nltk_data]    | Downloading package wordnet_ic to /root/nltk_data...\n",
            "[nltk_data]    |   Package wordnet_ic is already up-to-date!\n",
            "[nltk_data]    | Downloading package words to /root/nltk_data...\n",
            "[nltk_data]    |   Package words is already up-to-date!\n",
            "[nltk_data]    | Downloading package maxent_ne_chunker to\n",
            "[nltk_data]    |     /root/nltk_data...\n",
            "[nltk_data]    |   Package maxent_ne_chunker is already up-to-date!\n",
            "[nltk_data]    | Downloading package punkt to /root/nltk_data...\n",
            "[nltk_data]    |   Package punkt is already up-to-date!\n",
            "[nltk_data]    | Downloading package snowball_data to\n",
            "[nltk_data]    |     /root/nltk_data...\n",
            "[nltk_data]    |   Package snowball_data is already up-to-date!\n",
            "[nltk_data]    | Downloading package averaged_perceptron_tagger to\n",
            "[nltk_data]    |     /root/nltk_data...\n",
            "[nltk_data]    |   Package averaged_perceptron_tagger is already up-\n",
            "[nltk_data]    |       to-date!\n",
            "[nltk_data]    | \n",
            "[nltk_data]  Done downloading collection popular\n"
          ]
        },
        {
          "output_type": "execute_result",
          "data": {
            "text/plain": [
              "True"
            ]
          },
          "metadata": {},
          "execution_count": 22
        }
      ]
    },
    {
      "cell_type": "code",
      "source": [
        "paragraph='''According to a recent study by the Housing and Land Rights Network, approximately\n",
        "99 percent of homeless individuals in Delhi experience sleeplessness due to extreme heat.\n",
        "However, women and children, in particular,\n",
        "struggle with sleepless nights due to the fear of harassment and the absence of a safe place.\n",
        "Ruksar, 19, lived in Ballabgarh, Haryana, for years before her jhuggi was demolished,\n",
        "forcing her to find shelter in neighbourhoods of Delhi. During the heatwave, she told us,\n",
        "“I am currently living under a tarpaulin sheet in Shaheen Bagh but go to Nehru Place to\n",
        "catch some sleep under a tree. How can I sleep at night\n",
        "with my two children? One must always stay alert. You don’t know who will come and\n",
        "threaten you.” She added, “It’s too hot for my children to sleep. I end up fanning\n",
        "them with a cardboard or a hand fan to help them sleep.”'''"
      ],
      "metadata": {
        "id": "MfNtwSAzFbdo"
      },
      "execution_count": null,
      "outputs": []
    },
    {
      "cell_type": "code",
      "source": [
        "print(paragraph)"
      ],
      "metadata": {
        "colab": {
          "base_uri": "https://localhost:8080/"
        },
        "id": "M0Pmmeg9Hdd7",
        "outputId": "2b0fbff6-b5b8-403c-db35-6a8ead294dbe"
      },
      "execution_count": null,
      "outputs": [
        {
          "output_type": "stream",
          "name": "stdout",
          "text": [
            "According to a recent study by the Housing and Land Rights Network, approximately \n",
            "99 percent of homeless individuals in Delhi experience sleeplessness due to extreme heat. \n",
            "However, women and children, in particular, \n",
            "struggle with sleepless nights due to the fear of harassment and the absence of a safe place.\n",
            "Ruksar, 19, lived in Ballabgarh, Haryana, for years before her jhuggi was demolished, \n",
            "forcing her to find shelter in neighbourhoods of Delhi. During the heatwave, she told us, \n",
            "“I am currently living under a tarpaulin sheet in Shaheen Bagh but go to Nehru Place to \n",
            "catch some sleep under a tree. How can I sleep at night \n",
            "with my two children? One must always stay alert. You don’t know who will come and \n",
            "threaten you.” She added, “It’s too hot for my children to sleep. I end up fanning \n",
            "them with a cardboard or a hand fan to help them sleep.”\n"
          ]
        }
      ]
    },
    {
      "cell_type": "code",
      "source": [
        "#SENTENCE LEVEL TOKENIZATION\n",
        "sentences=nltk.sent_tokenize(paragraph)"
      ],
      "metadata": {
        "id": "4WByEUQCHjDc"
      },
      "execution_count": null,
      "outputs": []
    },
    {
      "cell_type": "code",
      "source": [
        "print(sentences)"
      ],
      "metadata": {
        "colab": {
          "base_uri": "https://localhost:8080/"
        },
        "id": "b_OM0jDVHw9i",
        "outputId": "9eb18c0f-aba0-4bf2-c804-9f0d4547df24"
      },
      "execution_count": null,
      "outputs": [
        {
          "output_type": "stream",
          "name": "stdout",
          "text": [
            "['According to a recent study by the Housing and Land Rights Network, approximately \\n99 percent of homeless individuals in Delhi experience sleeplessness due to extreme heat.', 'However, women and children, in particular, \\nstruggle with sleepless nights due to the fear of harassment and the absence of a safe place.', 'Ruksar, 19, lived in Ballabgarh, Haryana, for years before her jhuggi was demolished, \\nforcing her to find shelter in neighbourhoods of Delhi.', 'During the heatwave, she told us, \\n“I am currently living under a tarpaulin sheet in Shaheen Bagh but go to Nehru Place to \\ncatch some sleep under a tree.', 'How can I sleep at night \\nwith my two children?', 'One must always stay alert.', 'You don’t know who will come and \\nthreaten you.” She added, “It’s too hot for my children to sleep.', 'I end up fanning \\nthem with a cardboard or a hand fan to help them sleep.”']\n"
          ]
        }
      ]
    },
    {
      "cell_type": "code",
      "source": [
        "from tkinter.constants import W\n",
        "#WORD LEVEL TOKENIZATION\n",
        "words=nltk.word_tokenize(paragraph)"
      ],
      "metadata": {
        "id": "nT3dQSvrH3um"
      },
      "execution_count": null,
      "outputs": []
    },
    {
      "cell_type": "code",
      "source": [
        "print(words)"
      ],
      "metadata": {
        "colab": {
          "base_uri": "https://localhost:8080/"
        },
        "id": "RtLCyj-9H_mY",
        "outputId": "a7b9e444-1f18-42d9-b1f1-fe64315cbe86"
      },
      "execution_count": null,
      "outputs": [
        {
          "output_type": "stream",
          "name": "stdout",
          "text": [
            "['According', 'to', 'a', 'recent', 'study', 'by', 'the', 'Housing', 'and', 'Land', 'Rights', 'Network', ',', 'approximately', '99', 'percent', 'of', 'homeless', 'individuals', 'in', 'Delhi', 'experience', 'sleeplessness', 'due', 'to', 'extreme', 'heat', '.', 'However', ',', 'women', 'and', 'children', ',', 'in', 'particular', ',', 'struggle', 'with', 'sleepless', 'nights', 'due', 'to', 'the', 'fear', 'of', 'harassment', 'and', 'the', 'absence', 'of', 'a', 'safe', 'place', '.', 'Ruksar', ',', '19', ',', 'lived', 'in', 'Ballabgarh', ',', 'Haryana', ',', 'for', 'years', 'before', 'her', 'jhuggi', 'was', 'demolished', ',', 'forcing', 'her', 'to', 'find', 'shelter', 'in', 'neighbourhoods', 'of', 'Delhi', '.', 'During', 'the', 'heatwave', ',', 'she', 'told', 'us', ',', '“', 'I', 'am', 'currently', 'living', 'under', 'a', 'tarpaulin', 'sheet', 'in', 'Shaheen', 'Bagh', 'but', 'go', 'to', 'Nehru', 'Place', 'to', 'catch', 'some', 'sleep', 'under', 'a', 'tree', '.', 'How', 'can', 'I', 'sleep', 'at', 'night', 'with', 'my', 'two', 'children', '?', 'One', 'must', 'always', 'stay', 'alert', '.', 'You', 'don', '’', 't', 'know', 'who', 'will', 'come', 'and', 'threaten', 'you.', '”', 'She', 'added', ',', '“', 'It', '’', 's', 'too', 'hot', 'for', 'my', 'children', 'to', 'sleep', '.', 'I', 'end', 'up', 'fanning', 'them', 'with', 'a', 'cardboard', 'or', 'a', 'hand', 'fan', 'to', 'help', 'them', 'sleep', '.', '”']\n"
          ]
        }
      ]
    },
    {
      "cell_type": "code",
      "source": [
        "#STEMMING\n",
        "from nltk.stem import PorterStemmer\n",
        "#porterstemmer helps to do the stemming\n",
        "from nltk.corpus import stopwords"
      ],
      "metadata": {
        "id": "dE3R6SeIICCL"
      },
      "execution_count": null,
      "outputs": []
    },
    {
      "cell_type": "code",
      "source": [
        "stopwords.words('english')"
      ],
      "metadata": {
        "colab": {
          "base_uri": "https://localhost:8080/"
        },
        "id": "dKgqNxV-I3pw",
        "outputId": "6b435d56-c7a1-4375-c502-f7b9b04c9337"
      },
      "execution_count": null,
      "outputs": [
        {
          "output_type": "execute_result",
          "data": {
            "text/plain": [
              "['i',\n",
              " 'me',\n",
              " 'my',\n",
              " 'myself',\n",
              " 'we',\n",
              " 'our',\n",
              " 'ours',\n",
              " 'ourselves',\n",
              " 'you',\n",
              " \"you're\",\n",
              " \"you've\",\n",
              " \"you'll\",\n",
              " \"you'd\",\n",
              " 'your',\n",
              " 'yours',\n",
              " 'yourself',\n",
              " 'yourselves',\n",
              " 'he',\n",
              " 'him',\n",
              " 'his',\n",
              " 'himself',\n",
              " 'she',\n",
              " \"she's\",\n",
              " 'her',\n",
              " 'hers',\n",
              " 'herself',\n",
              " 'it',\n",
              " \"it's\",\n",
              " 'its',\n",
              " 'itself',\n",
              " 'they',\n",
              " 'them',\n",
              " 'their',\n",
              " 'theirs',\n",
              " 'themselves',\n",
              " 'what',\n",
              " 'which',\n",
              " 'who',\n",
              " 'whom',\n",
              " 'this',\n",
              " 'that',\n",
              " \"that'll\",\n",
              " 'these',\n",
              " 'those',\n",
              " 'am',\n",
              " 'is',\n",
              " 'are',\n",
              " 'was',\n",
              " 'were',\n",
              " 'be',\n",
              " 'been',\n",
              " 'being',\n",
              " 'have',\n",
              " 'has',\n",
              " 'had',\n",
              " 'having',\n",
              " 'do',\n",
              " 'does',\n",
              " 'did',\n",
              " 'doing',\n",
              " 'a',\n",
              " 'an',\n",
              " 'the',\n",
              " 'and',\n",
              " 'but',\n",
              " 'if',\n",
              " 'or',\n",
              " 'because',\n",
              " 'as',\n",
              " 'until',\n",
              " 'while',\n",
              " 'of',\n",
              " 'at',\n",
              " 'by',\n",
              " 'for',\n",
              " 'with',\n",
              " 'about',\n",
              " 'against',\n",
              " 'between',\n",
              " 'into',\n",
              " 'through',\n",
              " 'during',\n",
              " 'before',\n",
              " 'after',\n",
              " 'above',\n",
              " 'below',\n",
              " 'to',\n",
              " 'from',\n",
              " 'up',\n",
              " 'down',\n",
              " 'in',\n",
              " 'out',\n",
              " 'on',\n",
              " 'off',\n",
              " 'over',\n",
              " 'under',\n",
              " 'again',\n",
              " 'further',\n",
              " 'then',\n",
              " 'once',\n",
              " 'here',\n",
              " 'there',\n",
              " 'when',\n",
              " 'where',\n",
              " 'why',\n",
              " 'how',\n",
              " 'all',\n",
              " 'any',\n",
              " 'both',\n",
              " 'each',\n",
              " 'few',\n",
              " 'more',\n",
              " 'most',\n",
              " 'other',\n",
              " 'some',\n",
              " 'such',\n",
              " 'no',\n",
              " 'nor',\n",
              " 'not',\n",
              " 'only',\n",
              " 'own',\n",
              " 'same',\n",
              " 'so',\n",
              " 'than',\n",
              " 'too',\n",
              " 'very',\n",
              " 's',\n",
              " 't',\n",
              " 'can',\n",
              " 'will',\n",
              " 'just',\n",
              " 'don',\n",
              " \"don't\",\n",
              " 'should',\n",
              " \"should've\",\n",
              " 'now',\n",
              " 'd',\n",
              " 'll',\n",
              " 'm',\n",
              " 'o',\n",
              " 're',\n",
              " 've',\n",
              " 'y',\n",
              " 'ain',\n",
              " 'aren',\n",
              " \"aren't\",\n",
              " 'couldn',\n",
              " \"couldn't\",\n",
              " 'didn',\n",
              " \"didn't\",\n",
              " 'doesn',\n",
              " \"doesn't\",\n",
              " 'hadn',\n",
              " \"hadn't\",\n",
              " 'hasn',\n",
              " \"hasn't\",\n",
              " 'haven',\n",
              " \"haven't\",\n",
              " 'isn',\n",
              " \"isn't\",\n",
              " 'ma',\n",
              " 'mightn',\n",
              " \"mightn't\",\n",
              " 'mustn',\n",
              " \"mustn't\",\n",
              " 'needn',\n",
              " \"needn't\",\n",
              " 'shan',\n",
              " \"shan't\",\n",
              " 'shouldn',\n",
              " \"shouldn't\",\n",
              " 'wasn',\n",
              " \"wasn't\",\n",
              " 'weren',\n",
              " \"weren't\",\n",
              " 'won',\n",
              " \"won't\",\n",
              " 'wouldn',\n",
              " \"wouldn't\"]"
            ]
          },
          "metadata": {},
          "execution_count": 30
        }
      ]
    },
    {
      "cell_type": "code",
      "source": [
        "stemmer=PorterStemmer()"
      ],
      "metadata": {
        "id": "m7WEqdiQJGkb"
      },
      "execution_count": null,
      "outputs": []
    },
    {
      "cell_type": "code",
      "source": [
        "for i in range(len(sentences)):\n",
        "  words_stem=[stemmer.stem(word) for word in words if word not in set(stopwords.words('english'))]\n",
        "  sentences_stem=' '.join(words_stem)\n",
        "#"
      ],
      "metadata": {
        "id": "YSOfV4ybKbsC"
      },
      "execution_count": null,
      "outputs": []
    },
    {
      "cell_type": "code",
      "source": [
        "print(sentences_stem)"
      ],
      "metadata": {
        "colab": {
          "base_uri": "https://localhost:8080/"
        },
        "id": "UgTwys9tK_l2",
        "outputId": "4335c932-8a02-4ffe-bb1b-d15b331c93d2"
      },
      "execution_count": null,
      "outputs": [
        {
          "output_type": "stream",
          "name": "stdout",
          "text": [
            "accord recent studi hous land right network , approxim 99 percent homeless individu delhi experi sleepless due extrem heat . howev , women children , particular , struggl sleepless night due fear harass absenc safe place . ruksar , 19 , live ballabgarh , haryana , year jhuggi demolish , forc find shelter neighbourhood delhi . dure heatwav , told us , “ i current live tarpaulin sheet shaheen bagh go nehru place catch sleep tree . how i sleep night two children ? one must alway stay alert . you ’ know come threaten you. ” she ad , “ it ’ hot children sleep . i end fan cardboard hand fan help sleep . ”\n"
          ]
        }
      ]
    },
    {
      "cell_type": "code",
      "source": [
        "#LEMMATIZATION\n",
        "from nltk.stem import WordNetLemmatizer"
      ],
      "metadata": {
        "id": "d3K91K0OLS9M"
      },
      "execution_count": null,
      "outputs": []
    },
    {
      "cell_type": "code",
      "source": [
        "lemmatizer=WordNetLemmatizer()"
      ],
      "metadata": {
        "id": "mdo8oX5rMdtw"
      },
      "execution_count": null,
      "outputs": []
    },
    {
      "cell_type": "code",
      "source": [
        "for i in range(len(sentences)):\n",
        "  words_new=[lemmatizer.lemmatize(word) for word in words if word not in set(stopwords.words('english'))]\n",
        "  sentences_new=' '.join(words_new)"
      ],
      "metadata": {
        "id": "nmUUj2XUMjmO"
      },
      "execution_count": null,
      "outputs": []
    },
    {
      "cell_type": "code",
      "source": [
        "print(sentences_new)"
      ],
      "metadata": {
        "colab": {
          "base_uri": "https://localhost:8080/"
        },
        "id": "FtJdleZiNF7T",
        "outputId": "4f38a079-8ff3-40bc-954b-28299a90cfde"
      },
      "execution_count": null,
      "outputs": [
        {
          "output_type": "stream",
          "name": "stdout",
          "text": [
            "According recent study Housing Land Rights Network , approximately 99 percent homeless individual Delhi experience sleeplessness due extreme heat . However , woman child , particular , struggle sleepless night due fear harassment absence safe place . Ruksar , 19 , lived Ballabgarh , Haryana , year jhuggi demolished , forcing find shelter neighbourhood Delhi . During heatwave , told u , “ I currently living tarpaulin sheet Shaheen Bagh go Nehru Place catch sleep tree . How I sleep night two child ? One must always stay alert . You ’ know come threaten you. ” She added , “ It ’ hot child sleep . I end fanning cardboard hand fan help sleep . ”\n"
          ]
        }
      ]
    },
    {
      "cell_type": "code",
      "source": [],
      "metadata": {
        "id": "YBd_NM72MccH"
      },
      "execution_count": null,
      "outputs": []
    }
  ]
}