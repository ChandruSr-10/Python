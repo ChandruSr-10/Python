{
  "nbformat": 4,
  "nbformat_minor": 0,
  "metadata": {
    "colab": {
      "provenance": []
    },
    "kernelspec": {
      "name": "python3",
      "display_name": "Python 3"
    },
    "language_info": {
      "name": "python"
    }
  },
  "cells": [
    {
      "cell_type": "markdown",
      "source": [
        "We are learning different datatypes in python"
      ],
      "metadata": {
        "id": "np5K5gZXM1K2"
      }
    },
    {
      "cell_type": "code",
      "execution_count": null,
      "metadata": {
        "id": "VcCEheF-MZ9f"
      },
      "outputs": [],
      "source": [
        "a=155"
      ]
    },
    {
      "cell_type": "code",
      "source": [
        "print(a)"
      ],
      "metadata": {
        "colab": {
          "base_uri": "https://localhost:8080/"
        },
        "id": "9KpIgZnIMw1z",
        "outputId": "8f94ab09-1e83-4d85-cf06-1376f62907c6"
      },
      "execution_count": null,
      "outputs": [
        {
          "output_type": "stream",
          "name": "stdout",
          "text": [
            "155\n"
          ]
        }
      ]
    },
    {
      "cell_type": "code",
      "source": [
        "type(a)"
      ],
      "metadata": {
        "colab": {
          "base_uri": "https://localhost:8080/"
        },
        "id": "7ZfO-txDOIPp",
        "outputId": "f99f75f5-1c09-4d35-ff51-16471ed5a37e"
      },
      "execution_count": null,
      "outputs": [
        {
          "output_type": "execute_result",
          "data": {
            "text/plain": [
              "int"
            ]
          },
          "metadata": {},
          "execution_count": 3
        }
      ]
    },
    {
      "cell_type": "code",
      "source": [
        "b=-8.9"
      ],
      "metadata": {
        "id": "vxcY6UudOKA6"
      },
      "execution_count": null,
      "outputs": []
    },
    {
      "cell_type": "code",
      "source": [
        "print(b)"
      ],
      "metadata": {
        "colab": {
          "base_uri": "https://localhost:8080/"
        },
        "id": "uLJWvPMFOPHq",
        "outputId": "22a90126-e29c-4a84-955b-e7b70b746943"
      },
      "execution_count": null,
      "outputs": [
        {
          "output_type": "stream",
          "name": "stdout",
          "text": [
            "-8.9\n"
          ]
        }
      ]
    },
    {
      "cell_type": "code",
      "source": [
        "type(b)"
      ],
      "metadata": {
        "colab": {
          "base_uri": "https://localhost:8080/"
        },
        "id": "otZ7pGO9OQmX",
        "outputId": "dcc7bca3-fd4b-415f-c5c6-3f6586ee3c3b"
      },
      "execution_count": null,
      "outputs": [
        {
          "output_type": "execute_result",
          "data": {
            "text/plain": [
              "float"
            ]
          },
          "metadata": {},
          "execution_count": 6
        }
      ]
    },
    {
      "cell_type": "code",
      "source": [
        "c=4-2j"
      ],
      "metadata": {
        "id": "rXS-saQcOR6q"
      },
      "execution_count": null,
      "outputs": []
    },
    {
      "cell_type": "code",
      "source": [
        "print(c)"
      ],
      "metadata": {
        "colab": {
          "base_uri": "https://localhost:8080/"
        },
        "id": "ArrqBD0nOVck",
        "outputId": "891e419d-bfb8-4a93-f5c2-55bc96549960"
      },
      "execution_count": null,
      "outputs": [
        {
          "output_type": "stream",
          "name": "stdout",
          "text": [
            "(4-2j)\n"
          ]
        }
      ]
    },
    {
      "cell_type": "code",
      "source": [
        "type(c)"
      ],
      "metadata": {
        "colab": {
          "base_uri": "https://localhost:8080/"
        },
        "id": "xBdzZX4BOXBe",
        "outputId": "3a86670e-0c38-4614-b269-9b61fd0aab5b"
      },
      "execution_count": null,
      "outputs": [
        {
          "output_type": "execute_result",
          "data": {
            "text/plain": [
              "complex"
            ]
          },
          "metadata": {},
          "execution_count": 9
        }
      ]
    },
    {
      "cell_type": "code",
      "source": [
        "d=\"Indian Ocean\""
      ],
      "metadata": {
        "id": "lGhGGwqoOYBg"
      },
      "execution_count": null,
      "outputs": []
    },
    {
      "cell_type": "code",
      "source": [
        "print(d)"
      ],
      "metadata": {
        "colab": {
          "base_uri": "https://localhost:8080/"
        },
        "id": "i6Fzk8HTOyhD",
        "outputId": "898ed955-d9b1-462c-b34c-c1d4afb2ff3a"
      },
      "execution_count": null,
      "outputs": [
        {
          "output_type": "stream",
          "name": "stdout",
          "text": [
            "Indian Ocean\n"
          ]
        }
      ]
    },
    {
      "cell_type": "code",
      "source": [
        "type(d)"
      ],
      "metadata": {
        "colab": {
          "base_uri": "https://localhost:8080/"
        },
        "id": "DZc0WnODOz0d",
        "outputId": "f1a6b6c8-0304-45d3-8a08-27dce79cef64"
      },
      "execution_count": null,
      "outputs": [
        {
          "output_type": "execute_result",
          "data": {
            "text/plain": [
              "str"
            ]
          },
          "metadata": {},
          "execution_count": 12
        }
      ]
    },
    {
      "cell_type": "code",
      "source": [
        "name=\"chandru\""
      ],
      "metadata": {
        "id": "YyyXGlLzO0xo"
      },
      "execution_count": null,
      "outputs": []
    },
    {
      "cell_type": "code",
      "source": [
        "print(name)"
      ],
      "metadata": {
        "colab": {
          "base_uri": "https://localhost:8080/"
        },
        "id": "3U7-I24iO7zr",
        "outputId": "ce5f19f4-2008-49bb-b059-9c7433405985"
      },
      "execution_count": null,
      "outputs": [
        {
          "output_type": "stream",
          "name": "stdout",
          "text": [
            "chandru\n"
          ]
        }
      ]
    },
    {
      "cell_type": "code",
      "source": [
        "type(name)"
      ],
      "metadata": {
        "colab": {
          "base_uri": "https://localhost:8080/"
        },
        "id": "9QUcjbHkO9dW",
        "outputId": "709b7bb9-d936-45dc-f716-f6b03bee21ce"
      },
      "execution_count": null,
      "outputs": [
        {
          "output_type": "execute_result",
          "data": {
            "text/plain": [
              "str"
            ]
          },
          "metadata": {},
          "execution_count": 15
        }
      ]
    },
    {
      "cell_type": "code",
      "source": [
        "num=\"-4.895\""
      ],
      "metadata": {
        "id": "iMWfJ_PEO-8f"
      },
      "execution_count": null,
      "outputs": []
    },
    {
      "cell_type": "code",
      "source": [
        "print(num)"
      ],
      "metadata": {
        "colab": {
          "base_uri": "https://localhost:8080/"
        },
        "id": "oSL6PG7xPFai",
        "outputId": "b6cc7369-6367-49a7-c19d-4a645cdf1d36"
      },
      "execution_count": null,
      "outputs": [
        {
          "output_type": "stream",
          "name": "stdout",
          "text": [
            "-4.895\n"
          ]
        }
      ]
    },
    {
      "cell_type": "code",
      "source": [
        "type(num)"
      ],
      "metadata": {
        "colab": {
          "base_uri": "https://localhost:8080/"
        },
        "id": "tuwlajjRPH0Z",
        "outputId": "398c8dce-e910-4422-9dc2-aa66a582b24d"
      },
      "execution_count": null,
      "outputs": [
        {
          "output_type": "execute_result",
          "data": {
            "text/plain": [
              "str"
            ]
          },
          "metadata": {},
          "execution_count": 18
        }
      ]
    },
    {
      "cell_type": "code",
      "source": [
        "my_list=[\"apple\",\"russia\",\"Mango\",45,53,-4.5]"
      ],
      "metadata": {
        "id": "j866yBTYPKHr"
      },
      "execution_count": null,
      "outputs": []
    },
    {
      "cell_type": "code",
      "source": [
        "print(my_list)"
      ],
      "metadata": {
        "colab": {
          "base_uri": "https://localhost:8080/"
        },
        "id": "aEofodMKPX0X",
        "outputId": "22aa84eb-c982-4acc-daad-c6cb61261f24"
      },
      "execution_count": null,
      "outputs": [
        {
          "output_type": "stream",
          "name": "stdout",
          "text": [
            "['apple', 'russia', 'Mango', 45, 53, -4.5]\n"
          ]
        }
      ]
    },
    {
      "cell_type": "code",
      "source": [
        "type(my_list)"
      ],
      "metadata": {
        "colab": {
          "base_uri": "https://localhost:8080/"
        },
        "id": "Ko1TVHTpPZp9",
        "outputId": "fc46d428-b39c-4d7b-ec55-bd4a79a43cad"
      },
      "execution_count": null,
      "outputs": [
        {
          "output_type": "execute_result",
          "data": {
            "text/plain": [
              "list"
            ]
          },
          "metadata": {},
          "execution_count": 21
        }
      ]
    },
    {
      "cell_type": "code",
      "source": [
        "t=1,"
      ],
      "metadata": {
        "id": "TwLJQk2YPcLo"
      },
      "execution_count": null,
      "outputs": []
    },
    {
      "cell_type": "code",
      "source": [
        "type(t)"
      ],
      "metadata": {
        "colab": {
          "base_uri": "https://localhost:8080/"
        },
        "id": "FZjbI-aEQx3Q",
        "outputId": "d4a16dc9-e348-409c-de8c-2c885b1e12d3"
      },
      "execution_count": null,
      "outputs": [
        {
          "output_type": "execute_result",
          "data": {
            "text/plain": [
              "tuple"
            ]
          },
          "metadata": {},
          "execution_count": 23
        }
      ]
    },
    {
      "cell_type": "code",
      "source": [
        "tu=('app','rusia',23,-3.5)"
      ],
      "metadata": {
        "id": "vkAICoOrQzRP"
      },
      "execution_count": null,
      "outputs": []
    },
    {
      "cell_type": "code",
      "source": [
        "type(tu)"
      ],
      "metadata": {
        "colab": {
          "base_uri": "https://localhost:8080/"
        },
        "id": "z9k7SS5uRWcj",
        "outputId": "1f56bfdb-e09a-442a-f4ee-ab13cf46ea28"
      },
      "execution_count": null,
      "outputs": [
        {
          "output_type": "execute_result",
          "data": {
            "text/plain": [
              "tuple"
            ]
          },
          "metadata": {},
          "execution_count": 25
        }
      ]
    },
    {
      "cell_type": "code",
      "source": [
        "a=\"desktop\"\n",
        "b=\"my\"\n",
        "print(b+a)"
      ],
      "metadata": {
        "id": "X5pjBwRVRYFW",
        "colab": {
          "base_uri": "https://localhost:8080/"
        },
        "outputId": "b8f6a859-8fce-46f8-d25d-e458c0385a14"
      },
      "execution_count": null,
      "outputs": [
        {
          "output_type": "stream",
          "name": "stdout",
          "text": [
            "mydesktop\n"
          ]
        }
      ]
    },
    {
      "cell_type": "code",
      "source": [
        "l1=[1,2,3,4,5]\n",
        "l2=[\"Mango\",\"Apple\"]\n",
        "print(l1+l2)\n"
      ],
      "metadata": {
        "colab": {
          "base_uri": "https://localhost:8080/"
        },
        "id": "TlypOQPBFmiM",
        "outputId": "bf35c5d3-7bc7-4d39-8b6a-d9b3879713e1"
      },
      "execution_count": null,
      "outputs": [
        {
          "output_type": "stream",
          "name": "stdout",
          "text": [
            "[1, 2, 3, 4, 5, 'Mango', 'Apple']\n"
          ]
        }
      ]
    },
    {
      "cell_type": "code",
      "source": [
        "print(b+' '+a)"
      ],
      "metadata": {
        "colab": {
          "base_uri": "https://localhost:8080/"
        },
        "id": "BoXHWoQvFoFr",
        "outputId": "275f48a9-dae8-472a-ab57-11cbdc1abe77"
      },
      "execution_count": null,
      "outputs": [
        {
          "output_type": "stream",
          "name": "stdout",
          "text": [
            "my desktop\n"
          ]
        }
      ]
    },
    {
      "cell_type": "code",
      "source": [
        "fn=\"chan\" #fn-first name mn-middle name ln-last name\n",
        "mn=\"mav\"\n",
        "ln=\"vigo\"\n",
        "print(\"Full name is\",fn+' '+mn+' '+ln) #adding single quote to provide space in output\n"
      ],
      "metadata": {
        "colab": {
          "base_uri": "https://localhost:8080/"
        },
        "id": "PfjnDBdsGhlW",
        "outputId": "61df19f7-f621-42ab-dc26-d68479d2e771"
      },
      "execution_count": null,
      "outputs": [
        {
          "output_type": "stream",
          "name": "stdout",
          "text": [
            "Full name is chan mav vigo\n"
          ]
        }
      ]
    },
    {
      "cell_type": "code",
      "source": [
        "slicing=\"United Nations\"\n",
        "slicing[0:6]\n",
        "slicing[-14:-8]\n",
        "\n"
      ],
      "metadata": {
        "colab": {
          "base_uri": "https://localhost:8080/",
          "height": 35
        },
        "id": "2RUIy1p3GyJZ",
        "outputId": "2ff8fdee-1349-43eb-d2dd-ff16dd523e3f"
      },
      "execution_count": null,
      "outputs": [
        {
          "output_type": "execute_result",
          "data": {
            "text/plain": [
              "'United'"
            ],
            "application/vnd.google.colaboratory.intrinsic+json": {
              "type": "string"
            }
          },
          "metadata": {},
          "execution_count": 30
        }
      ]
    },
    {
      "cell_type": "code",
      "source": [
        "my_l=[1,2,3,'russia','USA','Alaska','israel',5,8,-4.9]\n",
        "\n"
      ],
      "metadata": {
        "id": "MDlDN2HqY6i-"
      },
      "execution_count": null,
      "outputs": []
    },
    {
      "cell_type": "code",
      "source": [
        "my_l[4:7]"
      ],
      "metadata": {
        "colab": {
          "base_uri": "https://localhost:8080/"
        },
        "id": "ybmC156xcwp1",
        "outputId": "67e35101-3401-40a0-e9d5-95fee82839f8"
      },
      "execution_count": null,
      "outputs": [
        {
          "output_type": "execute_result",
          "data": {
            "text/plain": [
              "['USA', 'Alaska', 'israel']"
            ]
          },
          "metadata": {},
          "execution_count": 32
        }
      ]
    },
    {
      "cell_type": "code",
      "source": [
        "my_l[-6:-3]"
      ],
      "metadata": {
        "colab": {
          "base_uri": "https://localhost:8080/"
        },
        "id": "ryoJjcandCHt",
        "outputId": "ebc65217-9cea-44a0-c42e-55e75fd6b39e"
      },
      "execution_count": null,
      "outputs": [
        {
          "output_type": "execute_result",
          "data": {
            "text/plain": [
              "['USA', 'Alaska', 'israel']"
            ]
          },
          "metadata": {},
          "execution_count": 33
        }
      ]
    },
    {
      "cell_type": "code",
      "source": [
        "a='chandru'\n",
        "print(a.upper())"
      ],
      "metadata": {
        "id": "wwJsyx7gdMBY",
        "colab": {
          "base_uri": "https://localhost:8080/"
        },
        "outputId": "cf1f90bf-fec2-4a5a-a0ba-1155a0c25540"
      },
      "execution_count": null,
      "outputs": [
        {
          "output_type": "stream",
          "name": "stdout",
          "text": [
            "CHANDRU\n"
          ]
        }
      ]
    },
    {
      "cell_type": "code",
      "source": [
        "b=a.upper()\n",
        "print(b)"
      ],
      "metadata": {
        "colab": {
          "base_uri": "https://localhost:8080/"
        },
        "id": "Y2Lmd57g4QkJ",
        "outputId": "4a5c4557-d303-4a0c-803d-6edaf09ea9c3"
      },
      "execution_count": null,
      "outputs": [
        {
          "output_type": "stream",
          "name": "stdout",
          "text": [
            "CHANDRU\n"
          ]
        }
      ]
    },
    {
      "cell_type": "code",
      "source": [
        "print(b.lower())"
      ],
      "metadata": {
        "colab": {
          "base_uri": "https://localhost:8080/"
        },
        "id": "e2XnQX8J4ant",
        "outputId": "dd1b096f-42bf-4317-9403-329fd8d451a4"
      },
      "execution_count": null,
      "outputs": [
        {
          "output_type": "stream",
          "name": "stdout",
          "text": [
            "chandru\n"
          ]
        }
      ]
    },
    {
      "cell_type": "code",
      "source": [
        "name='cHandru'\n",
        "print(name.capitalize())"
      ],
      "metadata": {
        "colab": {
          "base_uri": "https://localhost:8080/"
        },
        "id": "yHI015Kp4dDt",
        "outputId": "2ef87f46-5335-49b8-a373-7acde33fc18e"
      },
      "execution_count": null,
      "outputs": [
        {
          "output_type": "stream",
          "name": "stdout",
          "text": [
            "Chandru\n"
          ]
        }
      ]
    },
    {
      "cell_type": "code",
      "source": [
        "statement='Hello I am doing good, I am going to Bangalore next weekend, I am going to stay for 8 weeks'\n",
        "print(statement.replace(\"I am\",\"We are\"))"
      ],
      "metadata": {
        "colab": {
          "base_uri": "https://localhost:8080/"
        },
        "id": "kLrHhWjG4xqY",
        "outputId": "48434aa4-f46a-41e8-ecc4-71ca783fbb76"
      },
      "execution_count": null,
      "outputs": [
        {
          "output_type": "stream",
          "name": "stdout",
          "text": [
            "Hello We are doing good, We are going to Bangalore next weekend, We are going to stay for 8 weeks\n"
          ]
        }
      ]
    },
    {
      "cell_type": "code",
      "source": [
        "st='Hello I am doing good, I am going to Bangalore next weekend, I am going to stay for 8 weeks'\n",
        "print(st.replace(\"I am\",\"We are\",1))"
      ],
      "metadata": {
        "colab": {
          "base_uri": "https://localhost:8080/"
        },
        "id": "qhQ6QDoi6JHH",
        "outputId": "4db0af13-ca94-4e66-a248-de100ec39050"
      },
      "execution_count": null,
      "outputs": [
        {
          "output_type": "stream",
          "name": "stdout",
          "text": [
            "Hello We are doing good, I am going to Bangalore next weekend, I am going to stay for 8 weeks\n"
          ]
        }
      ]
    },
    {
      "cell_type": "code",
      "source": [
        "print(len(name))"
      ],
      "metadata": {
        "colab": {
          "base_uri": "https://localhost:8080/"
        },
        "id": "xRwv_1_66Xud",
        "outputId": "dbacfa92-f72c-42d3-e2f3-c398eaf040de"
      },
      "execution_count": null,
      "outputs": [
        {
          "output_type": "stream",
          "name": "stdout",
          "text": [
            "7\n"
          ]
        }
      ]
    },
    {
      "cell_type": "code",
      "source": [
        "print(st.count('a'))"
      ],
      "metadata": {
        "colab": {
          "base_uri": "https://localhost:8080/"
        },
        "id": "Vzt16kOC62_D",
        "outputId": "3b91623a-1182-4af6-e252-0589db8dd820"
      },
      "execution_count": null,
      "outputs": [
        {
          "output_type": "stream",
          "name": "stdout",
          "text": [
            "6\n"
          ]
        }
      ]
    },
    {
      "cell_type": "code",
      "source": [
        "print(my_list)"
      ],
      "metadata": {
        "colab": {
          "base_uri": "https://localhost:8080/"
        },
        "id": "IlelisJ16990",
        "outputId": "c574eb42-18ab-474b-d7ae-8f539c92e0f7"
      },
      "execution_count": null,
      "outputs": [
        {
          "output_type": "stream",
          "name": "stdout",
          "text": [
            "['apple', 'russia', 'Mango', 45, 53, -4.5]\n"
          ]
        }
      ]
    },
    {
      "cell_type": "code",
      "source": [
        "list1=[\"India\",\"USA\",[\"China\",\"10\",\"21\",\"-11.7\",\"6.9\"]]\n",
        "print(list1)"
      ],
      "metadata": {
        "colab": {
          "base_uri": "https://localhost:8080/"
        },
        "id": "jXlFG_ZEES2y",
        "outputId": "7951307c-e381-4ac0-b5ba-305620bf380a"
      },
      "execution_count": null,
      "outputs": [
        {
          "output_type": "stream",
          "name": "stdout",
          "text": [
            "['India', 'USA', ['China', '10', '21', '-11.7', '6.9']]\n"
          ]
        }
      ]
    },
    {
      "cell_type": "code",
      "source": [
        "print(list1[2][0])"
      ],
      "metadata": {
        "colab": {
          "base_uri": "https://localhost:8080/"
        },
        "id": "0CHsHIKpIrin",
        "outputId": "210ad1b6-d554-403e-95d4-b2a188f15f1c"
      },
      "execution_count": null,
      "outputs": [
        {
          "output_type": "stream",
          "name": "stdout",
          "text": [
            "China\n"
          ]
        }
      ]
    },
    {
      "cell_type": "code",
      "source": [
        "print(list1[2][0:3])"
      ],
      "metadata": {
        "colab": {
          "base_uri": "https://localhost:8080/"
        },
        "id": "rQZIz9ZyIw4h",
        "outputId": "57f6873f-bf1f-4f74-a3f0-28ce4d829f85"
      },
      "execution_count": null,
      "outputs": [
        {
          "output_type": "stream",
          "name": "stdout",
          "text": [
            "['China', '10', '21']\n"
          ]
        }
      ]
    },
    {
      "cell_type": "code",
      "source": [
        "print(my_list+list1)"
      ],
      "metadata": {
        "colab": {
          "base_uri": "https://localhost:8080/"
        },
        "id": "q5fyi5w3Kd8o",
        "outputId": "4ad9e10b-3985-4b64-a69e-0649d1333f19"
      },
      "execution_count": null,
      "outputs": [
        {
          "output_type": "stream",
          "name": "stdout",
          "text": [
            "['apple', 'russia', 'Mango', 45, 53, -4.5, 'India', 'USA', ['China', '10', '21', '-11.7', '6.9']]\n"
          ]
        }
      ]
    },
    {
      "cell_type": "code",
      "source": [
        "#TUPLE"
      ],
      "metadata": {
        "id": "AIwEMjzmOPDr"
      },
      "execution_count": null,
      "outputs": []
    },
    {
      "cell_type": "code",
      "source": [
        "t=('India','USA','Russia','New delhi',25,900,-3.9,-0.8)"
      ],
      "metadata": {
        "id": "-vtJ3SkSOtNF"
      },
      "execution_count": null,
      "outputs": []
    },
    {
      "cell_type": "code",
      "source": [
        "type(t)"
      ],
      "metadata": {
        "colab": {
          "base_uri": "https://localhost:8080/"
        },
        "id": "e5PrN7wjO6X5",
        "outputId": "b1c6a037-0f1d-4e18-f3e5-95519dff776b"
      },
      "execution_count": null,
      "outputs": [
        {
          "output_type": "execute_result",
          "data": {
            "text/plain": [
              "tuple"
            ]
          },
          "metadata": {},
          "execution_count": 49
        }
      ]
    },
    {
      "cell_type": "code",
      "source": [
        "t[2]"
      ],
      "metadata": {
        "colab": {
          "base_uri": "https://localhost:8080/",
          "height": 35
        },
        "id": "pVqK3M0ZO7z9",
        "outputId": "b50bfee0-67a5-4984-ef63-cf6bafc53a4f"
      },
      "execution_count": null,
      "outputs": [
        {
          "output_type": "execute_result",
          "data": {
            "text/plain": [
              "'Russia'"
            ],
            "application/vnd.google.colaboratory.intrinsic+json": {
              "type": "string"
            }
          },
          "metadata": {},
          "execution_count": 50
        }
      ]
    },
    {
      "cell_type": "code",
      "source": [
        "t[-2]"
      ],
      "metadata": {
        "colab": {
          "base_uri": "https://localhost:8080/"
        },
        "id": "J_NVUzXuO9wk",
        "outputId": "38240928-4f6c-4433-fc3a-fb1cf78d1ba0"
      },
      "execution_count": null,
      "outputs": [
        {
          "output_type": "execute_result",
          "data": {
            "text/plain": [
              "-3.9"
            ]
          },
          "metadata": {},
          "execution_count": 51
        }
      ]
    },
    {
      "cell_type": "code",
      "source": [
        "t[0:3]"
      ],
      "metadata": {
        "colab": {
          "base_uri": "https://localhost:8080/"
        },
        "id": "B_g0vIVrPAHI",
        "outputId": "6baa3307-3386-4d6c-b000-2404d2769b04"
      },
      "execution_count": null,
      "outputs": [
        {
          "output_type": "execute_result",
          "data": {
            "text/plain": [
              "('India', 'USA', 'Russia')"
            ]
          },
          "metadata": {},
          "execution_count": 52
        }
      ]
    },
    {
      "cell_type": "code",
      "source": [
        "my_tup=(2,3,4,5,6,7,9)\n",
        "sum(my_tup)"
      ],
      "metadata": {
        "colab": {
          "base_uri": "https://localhost:8080/"
        },
        "id": "2SbJj6txPCSf",
        "outputId": "a621b637-834c-4182-cc10-fef594cf4c23"
      },
      "execution_count": null,
      "outputs": [
        {
          "output_type": "execute_result",
          "data": {
            "text/plain": [
              "36"
            ]
          },
          "metadata": {},
          "execution_count": 53
        }
      ]
    },
    {
      "cell_type": "code",
      "source": [
        "max(my_tup)"
      ],
      "metadata": {
        "colab": {
          "base_uri": "https://localhost:8080/"
        },
        "id": "hmFcG9HBPtrJ",
        "outputId": "ea88e6fa-1192-4ee3-bb4b-b6f8e2044fce"
      },
      "execution_count": null,
      "outputs": [
        {
          "output_type": "execute_result",
          "data": {
            "text/plain": [
              "9"
            ]
          },
          "metadata": {},
          "execution_count": 54
        }
      ]
    },
    {
      "cell_type": "code",
      "source": [
        "min(my_tup)"
      ],
      "metadata": {
        "colab": {
          "base_uri": "https://localhost:8080/"
        },
        "id": "J7ZuuZkYPvzx",
        "outputId": "994087ac-d500-4c85-c370-cae045000031"
      },
      "execution_count": null,
      "outputs": [
        {
          "output_type": "execute_result",
          "data": {
            "text/plain": [
              "2"
            ]
          },
          "metadata": {},
          "execution_count": 55
        }
      ]
    },
    {
      "cell_type": "code",
      "source": [
        "len(my_tup)"
      ],
      "metadata": {
        "colab": {
          "base_uri": "https://localhost:8080/"
        },
        "id": "P-r28fP7Px2I",
        "outputId": "c2e984c1-b526-42bd-a8c9-c23916ed67c1"
      },
      "execution_count": null,
      "outputs": [
        {
          "output_type": "execute_result",
          "data": {
            "text/plain": [
              "7"
            ]
          },
          "metadata": {},
          "execution_count": 56
        }
      ]
    },
    {
      "cell_type": "code",
      "source": [
        "my_ll=[2,3,4,5,6,7,9,8,3,4,5,8]"
      ],
      "metadata": {
        "id": "ICo2kxMdQblB"
      },
      "execution_count": null,
      "outputs": []
    },
    {
      "cell_type": "code",
      "source": [
        "my_ll.sort(reverse=True)\n",
        "print(my_ll)"
      ],
      "metadata": {
        "colab": {
          "base_uri": "https://localhost:8080/"
        },
        "id": "-J0jc_IeQrfO",
        "outputId": "366e3892-55a5-4ec0-8e4e-47ad6a6e22a6"
      },
      "execution_count": null,
      "outputs": [
        {
          "output_type": "stream",
          "name": "stdout",
          "text": [
            "[9, 8, 8, 7, 6, 5, 5, 4, 4, 3, 3, 2]\n"
          ]
        }
      ]
    },
    {
      "cell_type": "code",
      "source": [
        "w='China'\n",
        "qw=list(w)\n",
        "print(qw)"
      ],
      "metadata": {
        "colab": {
          "base_uri": "https://localhost:8080/"
        },
        "id": "zvWLGPapQ17B",
        "outputId": "1bd90edf-7813-4028-9eb7-471f11e78aa7"
      },
      "execution_count": null,
      "outputs": [
        {
          "output_type": "stream",
          "name": "stdout",
          "text": [
            "['C', 'h', 'i', 'n', 'a']\n"
          ]
        }
      ]
    },
    {
      "cell_type": "code",
      "source": [
        "print(my_ll+qw)"
      ],
      "metadata": {
        "colab": {
          "base_uri": "https://localhost:8080/"
        },
        "id": "INRoKy54SguR",
        "outputId": "5967b337-6e52-44c0-ff4e-312f5289cba1"
      },
      "execution_count": null,
      "outputs": [
        {
          "output_type": "stream",
          "name": "stdout",
          "text": [
            "[9, 8, 8, 7, 6, 5, 5, 4, 4, 3, 3, 2, 'C', 'h', 'i', 'n', 'a']\n"
          ]
        }
      ]
    },
    {
      "cell_type": "code",
      "source": [
        "#DICTIONARY"
      ],
      "metadata": {
        "id": "AkCokqFuSlt5"
      },
      "execution_count": null,
      "outputs": []
    },
    {
      "cell_type": "code",
      "source": [
        "Memo={'chips':50,'Icecream':250,'chocolates':300,'pen':30,'bread':45}"
      ],
      "metadata": {
        "id": "SPz6fBTBU6Fl"
      },
      "execution_count": null,
      "outputs": []
    },
    {
      "cell_type": "code",
      "source": [
        "print(Memo)"
      ],
      "metadata": {
        "colab": {
          "base_uri": "https://localhost:8080/"
        },
        "id": "9PbsGJV2VFna",
        "outputId": "4bde5ffb-2fa0-4afd-eea0-e3031e7f562d"
      },
      "execution_count": null,
      "outputs": [
        {
          "output_type": "stream",
          "name": "stdout",
          "text": [
            "{'chips': 50, 'Icecream': 250, 'chocolates': 300, 'pen': 30, 'bread': 45}\n"
          ]
        }
      ]
    },
    {
      "cell_type": "code",
      "source": [
        "type(Memo)"
      ],
      "metadata": {
        "colab": {
          "base_uri": "https://localhost:8080/"
        },
        "id": "6vuYE_qzV7u9",
        "outputId": "d732cf24-7e15-4803-9ad0-c4ca21cba8ea"
      },
      "execution_count": null,
      "outputs": [
        {
          "output_type": "execute_result",
          "data": {
            "text/plain": [
              "dict"
            ]
          },
          "metadata": {},
          "execution_count": 64
        }
      ]
    },
    {
      "cell_type": "code",
      "source": [
        "Memo['pen'] #to fetch the key value instead of index values"
      ],
      "metadata": {
        "colab": {
          "base_uri": "https://localhost:8080/"
        },
        "id": "bX3yBxd6WA5N",
        "outputId": "55904220-0dd2-496c-898b-4f88b2ae54fc"
      },
      "execution_count": null,
      "outputs": [
        {
          "output_type": "execute_result",
          "data": {
            "text/plain": [
              "30"
            ]
          },
          "metadata": {},
          "execution_count": 65
        }
      ]
    },
    {
      "cell_type": "code",
      "source": [
        "Memo['chocolates']"
      ],
      "metadata": {
        "colab": {
          "base_uri": "https://localhost:8080/"
        },
        "id": "zlw-J0LNWErS",
        "outputId": "74693fad-f684-450d-b1d9-7962e589d8f1"
      },
      "execution_count": null,
      "outputs": [
        {
          "output_type": "execute_result",
          "data": {
            "text/plain": [
              "300"
            ]
          },
          "metadata": {},
          "execution_count": 66
        }
      ]
    },
    {
      "cell_type": "code",
      "source": [
        "Memo['chocolates']=277 #updating the key values"
      ],
      "metadata": {
        "id": "rTLfCEYMWIHL"
      },
      "execution_count": null,
      "outputs": []
    },
    {
      "cell_type": "code",
      "source": [
        "print(Memo)"
      ],
      "metadata": {
        "colab": {
          "base_uri": "https://localhost:8080/"
        },
        "id": "BoNeXsOuWg6H",
        "outputId": "9a991efd-aeed-4ad9-b706-106c7e4a5352"
      },
      "execution_count": null,
      "outputs": [
        {
          "output_type": "stream",
          "name": "stdout",
          "text": [
            "{'chips': 50, 'Icecream': 250, 'chocolates': 277, 'pen': 30, 'bread': 45}\n"
          ]
        }
      ]
    },
    {
      "cell_type": "code",
      "source": [
        "Memo.keys()"
      ],
      "metadata": {
        "colab": {
          "base_uri": "https://localhost:8080/"
        },
        "id": "b3N0i6npWiOz",
        "outputId": "23187cb0-e435-4c38-c2a5-ac6afcac793b"
      },
      "execution_count": null,
      "outputs": [
        {
          "output_type": "execute_result",
          "data": {
            "text/plain": [
              "dict_keys(['chips', 'Icecream', 'chocolates', 'pen', 'bread'])"
            ]
          },
          "metadata": {},
          "execution_count": 69
        }
      ]
    },
    {
      "cell_type": "code",
      "source": [
        "Memo.values()"
      ],
      "metadata": {
        "colab": {
          "base_uri": "https://localhost:8080/"
        },
        "id": "vhYj8Nh5W9bC",
        "outputId": "3f42f5c0-4397-4607-b322-9034e220f889"
      },
      "execution_count": null,
      "outputs": [
        {
          "output_type": "execute_result",
          "data": {
            "text/plain": [
              "dict_values([50, 250, 277, 30, 45])"
            ]
          },
          "metadata": {},
          "execution_count": 70
        }
      ]
    },
    {
      "cell_type": "code",
      "source": [
        "Memo['Notebook']=90 #to add a new key value\n",
        "print(Memo)"
      ],
      "metadata": {
        "id": "rSqAW9VlW_8S",
        "colab": {
          "base_uri": "https://localhost:8080/"
        },
        "outputId": "3a5a2302-a80e-4834-e5c4-94c24ba8429e"
      },
      "execution_count": null,
      "outputs": [
        {
          "output_type": "stream",
          "name": "stdout",
          "text": [
            "{'chips': 50, 'Icecream': 250, 'chocolates': 277, 'pen': 30, 'bread': 45, 'Notebook': 90}\n"
          ]
        }
      ]
    },
    {
      "cell_type": "code",
      "source": [
        "Memo.popitem() #will remove the last element in the doctionary"
      ],
      "metadata": {
        "colab": {
          "base_uri": "https://localhost:8080/"
        },
        "id": "7l6HvNWDBzgS",
        "outputId": "3e15ed36-c745-45fd-993b-6e23382b926f"
      },
      "execution_count": null,
      "outputs": [
        {
          "output_type": "execute_result",
          "data": {
            "text/plain": [
              "('Notebook', 90)"
            ]
          },
          "metadata": {},
          "execution_count": 73
        }
      ]
    },
    {
      "cell_type": "code",
      "source": [
        "Memo.clear() #this will clear all the key values"
      ],
      "metadata": {
        "id": "qGA5wTmYCMoS"
      },
      "execution_count": null,
      "outputs": []
    },
    {
      "cell_type": "code",
      "source": [
        "print(Memo)"
      ],
      "metadata": {
        "colab": {
          "base_uri": "https://localhost:8080/"
        },
        "id": "RQ8oGLDTCSu9",
        "outputId": "dd7116c0-b709-4f44-bc3a-7ad5ebd658ef"
      },
      "execution_count": null,
      "outputs": [
        {
          "output_type": "stream",
          "name": "stdout",
          "text": [
            "{}\n"
          ]
        }
      ]
    },
    {
      "cell_type": "markdown",
      "source": [
        "Create a dictionary with following key value pair\n",
        "Keys - Name, Age, Salary, City\n",
        "Values - Bob, 39, 35000, New York\n",
        "\n",
        "add a new key value pair Designation and Software Engg.\n",
        "\n",
        "Fetch the salary of bob\n",
        "\n",
        "change the salary of bob from 35000 to 55000"
      ],
      "metadata": {
        "id": "OTDnK3lSCwKu"
      }
    },
    {
      "cell_type": "code",
      "source": [
        "Memom={'Name':\"bob\",'Age':39,'Salary':35000,'City':\"NewYork\"}"
      ],
      "metadata": {
        "id": "X4yYW579Cpxs"
      },
      "execution_count": null,
      "outputs": []
    },
    {
      "cell_type": "code",
      "source": [
        "Memom['Designation']=\"SoftwareEnigneer\""
      ],
      "metadata": {
        "id": "aGaVdihVEIFf"
      },
      "execution_count": null,
      "outputs": []
    },
    {
      "cell_type": "code",
      "source": [
        "Memom['Salary']"
      ],
      "metadata": {
        "colab": {
          "base_uri": "https://localhost:8080/"
        },
        "id": "djWgDRszEsYR",
        "outputId": "d9e3dbae-09fd-4705-a276-0f1ff71ef279"
      },
      "execution_count": null,
      "outputs": [
        {
          "output_type": "execute_result",
          "data": {
            "text/plain": [
              "35000"
            ]
          },
          "metadata": {},
          "execution_count": 87
        }
      ]
    },
    {
      "cell_type": "code",
      "source": [
        "Memom['Salary']=55000"
      ],
      "metadata": {
        "id": "BDn6LQ66Fkyr"
      },
      "execution_count": 88,
      "outputs": []
    },
    {
      "cell_type": "code",
      "source": [
        "print(Memom)"
      ],
      "metadata": {
        "id": "cUzWrDOvF2t1",
        "colab": {
          "base_uri": "https://localhost:8080/"
        },
        "outputId": "ba42b7b5-9cb3-4b4c-ec4b-11414fad94ee"
      },
      "execution_count": 89,
      "outputs": [
        {
          "output_type": "stream",
          "name": "stdout",
          "text": [
            "{'Name': 'bob', 'Age': 39, 'Salary': 55000, 'City': 'NewYork', 'Designation': 'SoftwareEnigneer'}\n"
          ]
        }
      ]
    },
    {
      "cell_type": "code",
      "source": [
        "del Memom['Salary'] #to delete the key and value"
      ],
      "metadata": {
        "id": "WAnwbOYGGQrE"
      },
      "execution_count": 95,
      "outputs": []
    },
    {
      "cell_type": "code",
      "source": [
        "print(Memom)"
      ],
      "metadata": {
        "colab": {
          "base_uri": "https://localhost:8080/"
        },
        "id": "mMVkH5nqHRuk",
        "outputId": "a3ef963a-c169-4e0b-ce8e-e6f71c8958e9"
      },
      "execution_count": 94,
      "outputs": [
        {
          "output_type": "stream",
          "name": "stdout",
          "text": [
            "{'Name': 'bob', 'Salary': 55000, 'City': 'NewYork', 'Designation': 'SoftwareEnigneer'}\n"
          ]
        }
      ]
    },
    {
      "cell_type": "code",
      "source": [],
      "metadata": {
        "id": "vuMFYncbHUuF"
      },
      "execution_count": null,
      "outputs": []
    }
  ]
}